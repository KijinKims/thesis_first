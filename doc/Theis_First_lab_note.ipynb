{
 "cells": [
  {
   "cell_type": "markdown",
   "id": "6558cb5c-a09b-4360-a15e-bde71d803766",
   "metadata": {},
   "source": [
    "## 240212\n",
    "What data should be used?  \n",
    "Based on the feedback from Fiona at the committee meeting, Nanopore sequencing data should be prioritized.  \n",
    "Working on filtering out datasets with NCBI Run Selector.  \n",
    "Filter - source: metagenomic / platform: Oxford Nanopore / File type: fastq  \n",
    "Results in 24048 runs amounting to 21.62TB  \n",
    "metadata file saved at /home/kijin/thesis_first/results/240212  \n",
    "it was filtered with assay type of WGS or WGA only  \n",
    "10966 runs left  \n",
    "First preliminary data using [ESKAPE](https://en.wikipedia.org/wiki/ESKAPE) pathogens  \n",
    "114 runs in total  \n",
    "saved to /home/kijin/thesis_first/data/preliminary_240212  \n"
   ]
  },
  {
   "cell_type": "markdown",
   "id": "23b7dc8f-254c-459a-8b4f-5f42c8e6227f",
   "metadata": {
    "tags": []
   },
   "source": [
    "## 240208\n",
    "Made the project directory and let it added to github\n",
    "Created the folders in the project directory"
   ]
  }
 ],
 "metadata": {
  "kernelspec": {
   "display_name": "Python 3 (ipykernel)",
   "language": "python",
   "name": "python3"
  },
  "language_info": {
   "codemirror_mode": {
    "name": "ipython",
    "version": 3
   },
   "file_extension": ".py",
   "mimetype": "text/x-python",
   "name": "python",
   "nbconvert_exporter": "python",
   "pygments_lexer": "ipython3",
   "version": "3.9.7"
  }
 },
 "nbformat": 4,
 "nbformat_minor": 5
}
