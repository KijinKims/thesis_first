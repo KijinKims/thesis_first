{
 "cells": [
  {
   "cell_type": "markdown",
   "id": "23b7dc8f-254c-459a-8b4f-5f42c8e6227f",
   "metadata": {
    "tags": []
   },
   "source": [
    "## 240208\n",
    "Made the project directory and let it added to github\n",
    "Created the folders in the project directory"
   ]
  },
  {
   "cell_type": "markdown",
   "id": "6558cb5c-a09b-4360-a15e-bde71d803766",
   "metadata": {},
   "source": []
  }
 ],
 "metadata": {
  "kernelspec": {
   "display_name": "Python 3 (ipykernel)",
   "language": "python",
   "name": "python3"
  },
  "language_info": {
   "codemirror_mode": {
    "name": "ipython",
    "version": 3
   },
   "file_extension": ".py",
   "mimetype": "text/x-python",
   "name": "python",
   "nbconvert_exporter": "python",
   "pygments_lexer": "ipython3",
   "version": "3.9.7"
  }
 },
 "nbformat": 4,
 "nbformat_minor": 5
}
